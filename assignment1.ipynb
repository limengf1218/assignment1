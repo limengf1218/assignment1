{
 "cells": [
  {
   "cell_type": "markdown",
   "metadata": {},
   "source": [
    "# Assignemnt 1"
   ]
  },
  {
   "cell_type": "markdown",
   "metadata": {},
   "source": [
    "introduction"
   ]
  },
  {
   "cell_type": "markdown",
   "metadata": {},
   "source": [
    "python \\\n",
    "r\\\n",
    "java\n"
   ]
  },
  {
   "cell_type": "markdown",
   "metadata": {},
   "source": [
    "pandas\\\n",
    "numpy\\\n",
    "matplotlib"
   ]
  },
  {
   "cell_type": "markdown",
   "metadata": {},
   "source": [
    "anaconda\\\n",
    "jupyter notebook\\\n",
    "vscode"
   ]
  },
  {
   "cell_type": "markdown",
   "metadata": {},
   "source": [
    "# Data Science Tools\n",
    "\n",
    "| Tool             | Description                                                                 |\n",
    "|------------------|-----------------------------------------------------------------------------|\n",
    "| Jupyter Notebook | An open-source web application for creating and sharing documents with live code, equations, visualizations, and narrative text. |\n",
    "| Pandas           | A data manipulation and analysis library for Python. Provides data structures like DataFrames. |\n",
    "| NumPy            | A fundamental package for scientific computing with Python. Supports large, multi-dimensional arrays and matrices. |\n",
    "| Matplotlib       | A plotting library for creating static, animated, and interactive visualizations in Python. |\n",
    "| Scikit-learn     | A machine learning library for Python. Features various classification, regression, and clustering algorithms. |\n",
    "| TensorFlow       | An open-source library for machine learning and artificial intelligence. Supports building and training neural networks. |\n",
    "| PyTorch          | An open-source machine learning library based on the Torch library. Primarily developed by Facebook's AI Research lab. |\n",
    "| SQL              | A standard language for managing and manipulating databases. |\n",
    "| R                | A programming language and software environment for statistical computing and graphics. |\n",
    "| Tableau          | A data visualization tool used for converting raw data into understandable visual formats. |\n"
   ]
  },
  {
   "cell_type": "markdown",
   "metadata": {},
   "source": [
    "# Arithmetic Expression Examples\n",
    "\n",
    "Arithmetic expressions are combinations of numbers, operators, and sometimes parentheses used to perform calculations. "
   ]
  },
  {
   "cell_type": "code",
   "execution_count": 2,
   "metadata": {},
   "outputs": [
    {
     "data": {
      "text/plain": [
       "5"
      ]
     },
     "execution_count": 2,
     "metadata": {},
     "output_type": "execute_result"
    }
   ],
   "source": [
    "1*2+3"
   ]
  },
  {
   "cell_type": "code",
   "execution_count": 3,
   "metadata": {},
   "outputs": [
    {
     "name": "stdout",
     "output_type": "stream",
     "text": [
      "120 minutes is equal to 2.0 hours.\n"
     ]
    }
   ],
   "source": [
    "# Convert minutes to hours\n",
    "\n",
    "# Number of minutes to convert\n",
    "minutes = 120\n",
    "\n",
    "# Conversion calculation\n",
    "hours = minutes / 60\n",
    "\n",
    "# Output the result\n",
    "print(f\"{minutes} minutes is equal to {hours} hours.\")\n"
   ]
  },
  {
   "cell_type": "markdown",
   "metadata": {},
   "source": [
    "# Objectives\n",
    "\n",
    "1. Understand and use Data Science tools.\n",
    "2. Learn and apply basic arithmetic expressions.\n",
    "3. Convert time units from minutes to hours using Python.\n",
    "4. Gain proficiency in using Markdown and Python code cells in Jupyter Notebooks.\n"
   ]
  },
  {
   "cell_type": "markdown",
   "metadata": {},
   "source": [
    "# Author\n",
    "\n",
    "**Name:** Claurence\n"
   ]
  }
 ],
 "metadata": {
  "kernelspec": {
   "display_name": "base",
   "language": "python",
   "name": "python3"
  },
  "language_info": {
   "codemirror_mode": {
    "name": "ipython",
    "version": 3
   },
   "file_extension": ".py",
   "mimetype": "text/x-python",
   "name": "python",
   "nbconvert_exporter": "python",
   "pygments_lexer": "ipython3",
   "version": "3.11.7"
  }
 },
 "nbformat": 4,
 "nbformat_minor": 2
}
